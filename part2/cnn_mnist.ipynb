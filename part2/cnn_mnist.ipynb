{
  "cells": [
    {
      "cell_type": "markdown",
      "metadata": {
        "colab_type": "text",
        "id": "yp5Nn7lzV3J6"
      },
      "source": [
        "# Load pytorch library"
      ]
    },
    {
      "cell_type": "code",
      "execution_count": 1,
      "metadata": {
        "colab": {},
        "colab_type": "code",
        "id": "sZzTc_qcr0ge"
      },
      "outputs": [],
      "source": [
        "import torch\n",
        "import torchvision\n",
        "import torchvision.transforms as transforms\n"
      ]
    },
    {
      "cell_type": "markdown",
      "metadata": {
        "colab_type": "text",
        "id": "KtysNYMHV-XR"
      },
      "source": [
        "# Define validation dataset ratio"
      ]
    },
    {
      "cell_type": "code",
      "execution_count": 2,
      "metadata": {
        "colab": {},
        "colab_type": "code",
        "id": "yO2LXvudAog6"
      },
      "outputs": [],
      "source": [
        "\n",
        "valid_ratio = 0.3"
      ]
    },
    {
      "cell_type": "markdown",
      "metadata": {
        "colab_type": "text",
        "id": "m77sHXmJWHfx"
      },
      "source": [
        "# Define the MNIST training and validation sets, and possible transforms to be applied. Optional augmentation can be done within the transform. "
      ]
    },
    {
      "cell_type": "code",
      "execution_count": 3,
      "metadata": {
        "colab": {},
        "colab_type": "code",
        "id": "JNDByYIhr4TU"
      },
      "outputs": [],
      "source": [
        "transform = transforms.Compose(\n",
        "    [\n",
        "     # define your data augmentation here!\n",
        "    #  transforms.RandomRotation(degrees=30),\n",
        "     transforms.ToTensor(),\n",
        "     transforms.Normalize((0.1307,), (0.3081,))])\n",
        "\n",
        "train_valid_dataset = torchvision.datasets.MNIST(root='./data', train=True,\n",
        "                                        download=True, transform=transform)\n",
        "nb_train = int((1.0 - valid_ratio) * len(train_valid_dataset))\n",
        "nb_valid =  int(valid_ratio * len(train_valid_dataset))\n",
        "train_dataset, valid_dataset = torch.utils.data.dataset.random_split(train_valid_dataset, [nb_train, nb_valid])\n",
        "trainloader = torch.utils.data.DataLoader(train_dataset, batch_size=500,\n",
        "                                          shuffle=True)\n",
        "validloader = torch.utils.data.DataLoader(valid_dataset, batch_size=500,\n",
        "                                          shuffle=True)\n",
        "\n",
        "classes = ('0', '1', '2', '3',\n",
        "           '4', '5', '6', '7', '8', '9')"
      ]
    },
    {
      "cell_type": "markdown",
      "metadata": {
        "colab_type": "text",
        "id": "bEynLBaxWrnQ"
      },
      "source": [
        "# Visualize the MNIST dataset."
      ]
    },
    {
      "cell_type": "code",
      "execution_count": 4,
      "metadata": {
        "colab": {
          "base_uri": "https://localhost:8080/",
          "height": 172
        },
        "colab_type": "code",
        "id": "EO8X36thsFKF",
        "outputId": "f568b63d-5a45-452f-ced4-f112a4e74bac"
      },
      "outputs": [
        {
          "name": "stderr",
          "output_type": "stream",
          "text": [
            "Clipping input data to the valid range for imshow with RGB data ([0..1] for floats or [0..255] for integers).\n"
          ]
        },
        {
          "data": {
            "image/png": "[encoded data removed]",
            "image/svg+xml": "<?xml version=\"1.0\" encoding=\"utf-8\" standalone=\"no\"?>\r\n<!DOCTYPE svg PUBLIC \"-//W3C//DTD SVG 1.1//EN\"\r\n  \"http://www.w3.org/Graphics/SVG/1.1/DTD/svg11.dtd\">\r\n<!-- Created with matplotlib (https://matplotlib.org/) -->\r\n<svg height=\"121.321606pt\" version=\"1.1\" viewBox=\"0 0 374.352357 121.321606\" width=\"374.352357pt\" xmlns=\"http://www.w3.org/2000/svg\" xmlns:xlink=\"http://www.w3.org/1999/xlink\">\r\n <metadata>\r\n  <rdf:RDF xmlns:cc=\"http://creativecommons.org/ns#\" xmlns:dc=\"http://purl.org/dc/elements/1.1/\" xmlns:rdf=\"http://www.w3.org/1999/02/22-rdf-syntax-ns#\">\r\n   <cc:Work>\r\n    <dc:type rdf:resource=\"http://purl.org/dc/dcmitype/StillImage\"/>\r\n    <dc:date>2020-12-16T20:28:48.449703</dc:date>\r\n    <dc:format>image/svg+xml</dc:format>\r\n    <dc:creator>\r\n     <cc:Agent>\r\n      <dc:title>Matplotlib v3.3.2, https://matplotlib.org/</dc:title>\r\n     </cc:Agent>\r\n    </dc:creator>\r\n   </cc:Work>\r\n  </rdf:RDF>\r\n </metadata>\r\n <defs>\r\n  <style type=\"text/css\">*{stroke-linecap:butt;stroke-linejoin:round;}</style>\r\n </defs>\r\n <g id=\"figure_1\">\r\n  <g id=\"patch_1\">\r\n   <path d=\"M -0 121.321606 \r\nL 374.352357 121.321606 \r\nL 374.352357 0 \r\nL -0 0 \r\nz\r\n\" style=\"fill:none;\"/>\r\n  </g>\r\n  <g id=\"axes_1\">\r\n   <g id=\"patch_2\">\r\n    <path d=\"M 26.925 97.443481 \r\nL 361.725 97.443481 \r\nL 361.725 9.627088 \r\nL 26.925 9.627088 \r\nz\r\n\" style=\"fill:#ffffff;\"/>\r\n   </g>\r\n   <g clip-path=\"url(#p1be16f39ff)\">\r\n    <image height=\"88\" id=\"image381c868e80\" transform=\"scale(1 -1)translate(0 -88)\" width=\"335\" x=\"26.925\" xlink:href=\"data:image/png;base64,\r\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\" y=\"-9.443481\"/>\r\n   </g>\r\n   <g id=\"matplotlib.axis_1\">\r\n    <g id=\"xtick_1\">\r\n     <g id=\"line2d_1\">\r\n      <defs>\r\n       <path d=\"M 0 0 \r\nL 0 3.5 \r\n\" id=\"m6d819de623\" style=\"stroke:#000000;stroke-width:0.8;\"/>\r\n      </defs>\r\n      <g>\r\n       <use style=\"stroke:#000000;stroke-width:0.8;\" x=\"28.297131\" xlink:href=\"#m6d819de623\" y=\"97.443481\"/>\r\n      </g>\r\n     </g>\r\n     <g id=\"text_1\">\r\n      <!-- 0 -->\r\n      <g transform=\"translate(25.115881 112.041919)scale(0.1 -0.1)\">\r\n       <defs>\r\n        <path d=\"M 31.78125 66.40625 \r\nQ 24.171875 66.40625 20.328125 58.90625 \r\nQ 16.5 51.421875 16.5 36.375 \r\nQ 16.5 21.390625 20.328125 13.890625 \r\nQ 24.171875 6.390625 31.78125 6.390625 \r\nQ 39.453125 6.390625 43.28125 13.890625 \r\nQ 47.125 21.390625 47.125 36.375 \r\nQ 47.125 51.421875 43.28125 58.90625 \r\nQ 39.453125 66.40625 31.78125 66.40625 \r\nz\r\nM 31.78125 74.21875 \r\nQ 44.046875 74.21875 50.515625 64.515625 \r\nQ 56.984375 54.828125 56.984375 36.375 \r\nQ 56.984375 17.96875 50.515625 8.265625 \r\nQ 44.046875 -1.421875 31.78125 -1.421875 \r\nQ 19.53125 -1.421875 13.0625 8.265625 \r\nQ 6.59375 17.96875 6.59375 36.375 \r\nQ 6.59375 54.828125 13.0625 64.515625 \r\nQ 19.53125 74.21875 31.78125 74.21875 \r\nz\r\n\" id=\"DejaVuSans-48\"/>\r\n       </defs>\r\n       <use xlink:href=\"#DejaVuSans-48\"/>\r\n      </g>\r\n     </g>\r\n    </g>\r\n    <g id=\"xtick_2\">\r\n     <g id=\"line2d_2\">\r\n      <g>\r\n       <use style=\"stroke:#000000;stroke-width:0.8;\" x=\"83.182377\" xlink:href=\"#m6d819de623\" y=\"97.443481\"/>\r\n      </g>\r\n     </g>\r\n     <g id=\"text_2\">\r\n      <!-- 20 -->\r\n      <g transform=\"translate(76.819877 112.041919)scale(0.1 -0.1)\">\r\n       <defs>\r\n        <path d=\"M 19.1875 8.296875 \r\nL 53.609375 8.296875 \r\nL 53.609375 0 \r\nL 7.328125 0 \r\nL 7.328125 8.296875 \r\nQ 12.9375 14.109375 22.625 23.890625 \r\nQ 32.328125 33.6875 34.8125 36.53125 \r\nQ 39.546875 41.84375 41.421875 45.53125 \r\nQ 43.3125 49.21875 43.3125 52.78125 \r\nQ 43.3125 58.59375 39.234375 62.25 \r\nQ 35.15625 65.921875 28.609375 65.921875 \r\nQ 23.96875 65.921875 18.8125 64.3125 \r\nQ 13.671875 62.703125 7.8125 59.421875 \r\nL 7.8125 69.390625 \r\nQ 13.765625 71.78125 18.9375 73 \r\nQ 24.125 74.21875 28.421875 74.21875 \r\nQ 39.75 74.21875 46.484375 68.546875 \r\nQ 53.21875 62.890625 53.21875 53.421875 \r\nQ 53.21875 48.921875 51.53125 44.890625 \r\nQ 49.859375 40.875 45.40625 35.40625 \r\nQ 44.1875 33.984375 37.640625 27.21875 \r\nQ 31.109375 20.453125 19.1875 8.296875 \r\nz\r\n\" id=\"DejaVuSans-50\"/>\r\n       </defs>\r\n       <use xlink:href=\"#DejaVuSans-50\"/>\r\n       <use x=\"63.623047\" xlink:href=\"#DejaVuSans-48\"/>\r\n      </g>\r\n     </g>\r\n    </g>\r\n    <g id=\"xtick_3\">\r\n     <g id=\"line2d_3\">\r\n      <g>\r\n       <use style=\"stroke:#000000;stroke-width:0.8;\" x=\"138.067623\" xlink:href=\"#m6d819de623\" y=\"97.443481\"/>\r\n      </g>\r\n     </g>\r\n     <g id=\"text_3\">\r\n      <!-- 40 -->\r\n      <g transform=\"translate(131.705123 112.041919)scale(0.1 -0.1)\">\r\n       <defs>\r\n        <path d=\"M 37.796875 64.3125 \r\nL 12.890625 25.390625 \r\nL 37.796875 25.390625 \r\nz\r\nM 35.203125 72.90625 \r\nL 47.609375 72.90625 \r\nL 47.609375 25.390625 \r\nL 58.015625 25.390625 \r\nL 58.015625 17.1875 \r\nL 47.609375 17.1875 \r\nL 47.609375 0 \r\nL 37.796875 0 \r\nL 37.796875 17.1875 \r\nL 4.890625 17.1875 \r\nL 4.890625 26.703125 \r\nz\r\n\" id=\"DejaVuSans-52\"/>\r\n       </defs>\r\n       <use xlink:href=\"#DejaVuSans-52\"/>\r\n       <use x=\"63.623047\" xlink:href=\"#DejaVuSans-48\"/>\r\n      </g>\r\n     </g>\r\n    </g>\r\n    <g id=\"xtick_4\">\r\n     <g id=\"line2d_4\">\r\n      <g>\r\n       <use style=\"stroke:#000000;stroke-width:0.8;\" x=\"192.952869\" xlink:href=\"#m6d819de623\" y=\"97.443481\"/>\r\n      </g>\r\n     </g>\r\n     <g id=\"text_4\">\r\n      <!-- 60 -->\r\n      <g transform=\"translate(186.590369 112.041919)scale(0.1 -0.1)\">\r\n       <defs>\r\n        <path d=\"M 33.015625 40.375 \r\nQ 26.375 40.375 22.484375 35.828125 \r\nQ 18.609375 31.296875 18.609375 23.390625 \r\nQ 18.609375 15.53125 22.484375 10.953125 \r\nQ 26.375 6.390625 33.015625 6.390625 \r\nQ 39.65625 6.390625 43.53125 10.953125 \r\nQ 47.40625 15.53125 47.40625 23.390625 \r\nQ 47.40625 31.296875 43.53125 35.828125 \r\nQ 39.65625 40.375 33.015625 40.375 \r\nz\r\nM 52.59375 71.296875 \r\nL 52.59375 62.3125 \r\nQ 48.875 64.0625 45.09375 64.984375 \r\nQ 41.3125 65.921875 37.59375 65.921875 \r\nQ 27.828125 65.921875 22.671875 59.328125 \r\nQ 17.53125 52.734375 16.796875 39.40625 \r\nQ 19.671875 43.65625 24.015625 45.921875 \r\nQ 28.375 48.1875 33.59375 48.1875 \r\nQ 44.578125 48.1875 50.953125 41.515625 \r\nQ 57.328125 34.859375 57.328125 23.390625 \r\nQ 57.328125 12.15625 50.6875 5.359375 \r\nQ 44.046875 -1.421875 33.015625 -1.421875 \r\nQ 20.359375 -1.421875 13.671875 8.265625 \r\nQ 6.984375 17.96875 6.984375 36.375 \r\nQ 6.984375 53.65625 15.1875 63.9375 \r\nQ 23.390625 74.21875 37.203125 74.21875 \r\nQ 40.921875 74.21875 44.703125 73.484375 \r\nQ 48.484375 72.75 52.59375 71.296875 \r\nz\r\n\" id=\"DejaVuSans-54\"/>\r\n       </defs>\r\n       <use xlink:href=\"#DejaVuSans-54\"/>\r\n       <use x=\"63.623047\" xlink:href=\"#DejaVuSans-48\"/>\r\n      </g>\r\n     </g>\r\n    </g>\r\n    <g id=\"xtick_5\">\r\n     <g id=\"line2d_5\">\r\n      <g>\r\n       <use style=\"stroke:#000000;stroke-width:0.8;\" x=\"247.838115\" xlink:href=\"#m6d819de623\" y=\"97.443481\"/>\r\n      </g>\r\n     </g>\r\n     <g id=\"text_5\">\r\n      <!-- 80 -->\r\n      <g transform=\"translate(241.475615 112.041919)scale(0.1 -0.1)\">\r\n       <defs>\r\n        <path d=\"M 31.78125 34.625 \r\nQ 24.75 34.625 20.71875 30.859375 \r\nQ 16.703125 27.09375 16.703125 20.515625 \r\nQ 16.703125 13.921875 20.71875 10.15625 \r\nQ 24.75 6.390625 31.78125 6.390625 \r\nQ 38.8125 6.390625 42.859375 10.171875 \r\nQ 46.921875 13.96875 46.921875 20.515625 \r\nQ 46.921875 27.09375 42.890625 30.859375 \r\nQ 38.875 34.625 31.78125 34.625 \r\nz\r\nM 21.921875 38.8125 \r\nQ 15.578125 40.375 12.03125 44.71875 \r\nQ 8.5 49.078125 8.5 55.328125 \r\nQ 8.5 64.0625 14.71875 69.140625 \r\nQ 20.953125 74.21875 31.78125 74.21875 \r\nQ 42.671875 74.21875 48.875 69.140625 \r\nQ 55.078125 64.0625 55.078125 55.328125 \r\nQ 55.078125 49.078125 51.53125 44.71875 \r\nQ 48 40.375 41.703125 38.8125 \r\nQ 48.828125 37.15625 52.796875 32.3125 \r\nQ 56.78125 27.484375 56.78125 20.515625 \r\nQ 56.78125 9.90625 50.3125 4.234375 \r\nQ 43.84375 -1.421875 31.78125 -1.421875 \r\nQ 19.734375 -1.421875 13.25 4.234375 \r\nQ 6.78125 9.90625 6.78125 20.515625 \r\nQ 6.78125 27.484375 10.78125 32.3125 \r\nQ 14.796875 37.15625 21.921875 38.8125 \r\nz\r\nM 18.3125 54.390625 \r\nQ 18.3125 48.734375 21.84375 45.5625 \r\nQ 25.390625 42.390625 31.78125 42.390625 \r\nQ 38.140625 42.390625 41.71875 45.5625 \r\nQ 45.3125 48.734375 45.3125 54.390625 \r\nQ 45.3125 60.0625 41.71875 63.234375 \r\nQ 38.140625 66.40625 31.78125 66.40625 \r\nQ 25.390625 66.40625 21.84375 63.234375 \r\nQ 18.3125 60.0625 18.3125 54.390625 \r\nz\r\n\" id=\"DejaVuSans-56\"/>\r\n       </defs>\r\n       <use xlink:href=\"#DejaVuSans-56\"/>\r\n       <use x=\"63.623047\" xlink:href=\"#DejaVuSans-48\"/>\r\n      </g>\r\n     </g>\r\n    </g>\r\n    <g id=\"xtick_6\">\r\n     <g id=\"line2d_6\">\r\n      <g>\r\n       <use style=\"stroke:#000000;stroke-width:0.8;\" x=\"302.723361\" xlink:href=\"#m6d819de623\" y=\"97.443481\"/>\r\n      </g>\r\n     </g>\r\n     <g id=\"text_6\">\r\n      <!-- 100 -->\r\n      <g transform=\"translate(293.179611 112.041919)scale(0.1 -0.1)\">\r\n       <defs>\r\n        <path d=\"M 12.40625 8.296875 \r\nL 28.515625 8.296875 \r\nL 28.515625 63.921875 \r\nL 10.984375 60.40625 \r\nL 10.984375 69.390625 \r\nL 28.421875 72.90625 \r\nL 38.28125 72.90625 \r\nL 38.28125 8.296875 \r\nL 54.390625 8.296875 \r\nL 54.390625 0 \r\nL 12.40625 0 \r\nz\r\n\" id=\"DejaVuSans-49\"/>\r\n       </defs>\r\n       <use xlink:href=\"#DejaVuSans-49\"/>\r\n       <use x=\"63.623047\" xlink:href=\"#DejaVuSans-48\"/>\r\n       <use x=\"127.246094\" xlink:href=\"#DejaVuSans-48\"/>\r\n      </g>\r\n     </g>\r\n    </g>\r\n    <g id=\"xtick_7\">\r\n     <g id=\"line2d_7\">\r\n      <g>\r\n       <use style=\"stroke:#000000;stroke-width:0.8;\" x=\"357.608607\" xlink:href=\"#m6d819de623\" y=\"97.443481\"/>\r\n      </g>\r\n     </g>\r\n     <g id=\"text_7\">\r\n      <!-- 120 -->\r\n      <g transform=\"translate(348.064857 112.041919)scale(0.1 -0.1)\">\r\n       <use xlink:href=\"#DejaVuSans-49\"/>\r\n       <use x=\"63.623047\" xlink:href=\"#DejaVuSans-50\"/>\r\n       <use x=\"127.246094\" xlink:href=\"#DejaVuSans-48\"/>\r\n      </g>\r\n     </g>\r\n    </g>\r\n   </g>\r\n   <g id=\"matplotlib.axis_2\">\r\n    <g id=\"ytick_1\">\r\n     <g id=\"line2d_8\">\r\n      <defs>\r\n       <path d=\"M 0 0 \r\nL -3.5 0 \r\n\" id=\"mecf5be3efa\" style=\"stroke:#000000;stroke-width:0.8;\"/>\r\n      </defs>\r\n      <g>\r\n       <use style=\"stroke:#000000;stroke-width:0.8;\" x=\"26.925\" xlink:href=\"#mecf5be3efa\" y=\"10.999219\"/>\r\n      </g>\r\n     </g>\r\n     <g id=\"text_8\">\r\n      <!-- 0 -->\r\n      <g transform=\"translate(13.5625 14.798437)scale(0.1 -0.1)\">\r\n       <use xlink:href=\"#DejaVuSans-48\"/>\r\n      </g>\r\n     </g>\r\n    </g>\r\n    <g id=\"ytick_2\">\r\n     <g id=\"line2d_9\">\r\n      <g>\r\n       <use style=\"stroke:#000000;stroke-width:0.8;\" x=\"26.925\" xlink:href=\"#mecf5be3efa\" y=\"38.441842\"/>\r\n      </g>\r\n     </g>\r\n     <g id=\"text_9\">\r\n      <!-- 10 -->\r\n      <g transform=\"translate(7.2 42.24106)scale(0.1 -0.1)\">\r\n       <use xlink:href=\"#DejaVuSans-49\"/>\r\n       <use x=\"63.623047\" xlink:href=\"#DejaVuSans-48\"/>\r\n      </g>\r\n     </g>\r\n    </g>\r\n    <g id=\"ytick_3\">\r\n     <g id=\"line2d_10\">\r\n      <g>\r\n       <use style=\"stroke:#000000;stroke-width:0.8;\" x=\"26.925\" xlink:href=\"#mecf5be3efa\" y=\"65.884465\"/>\r\n      </g>\r\n     </g>\r\n     <g id=\"text_10\">\r\n      <!-- 20 -->\r\n      <g transform=\"translate(7.2 69.683683)scale(0.1 -0.1)\">\r\n       <use xlink:href=\"#DejaVuSans-50\"/>\r\n       <use x=\"63.623047\" xlink:href=\"#DejaVuSans-48\"/>\r\n      </g>\r\n     </g>\r\n    </g>\r\n    <g id=\"ytick_4\">\r\n     <g id=\"line2d_11\">\r\n      <g>\r\n       <use style=\"stroke:#000000;stroke-width:0.8;\" x=\"26.925\" xlink:href=\"#mecf5be3efa\" y=\"93.327088\"/>\r\n      </g>\r\n     </g>\r\n     <g id=\"text_11\">\r\n      <!-- 30 -->\r\n      <g transform=\"translate(7.2 97.126306)scale(0.1 -0.1)\">\r\n       <defs>\r\n        <path d=\"M 40.578125 39.3125 \r\nQ 47.65625 37.796875 51.625 33 \r\nQ 55.609375 28.21875 55.609375 21.1875 \r\nQ 55.609375 10.40625 48.1875 4.484375 \r\nQ 40.765625 -1.421875 27.09375 -1.421875 \r\nQ 22.515625 -1.421875 17.65625 -0.515625 \r\nQ 12.796875 0.390625 7.625 2.203125 \r\nL 7.625 11.71875 \r\nQ 11.71875 9.328125 16.59375 8.109375 \r\nQ 21.484375 6.890625 26.8125 6.890625 \r\nQ 36.078125 6.890625 40.9375 10.546875 \r\nQ 45.796875 14.203125 45.796875 21.1875 \r\nQ 45.796875 27.640625 41.28125 31.265625 \r\nQ 36.765625 34.90625 28.71875 34.90625 \r\nL 20.21875 34.90625 \r\nL 20.21875 43.015625 \r\nL 29.109375 43.015625 \r\nQ 36.375 43.015625 40.234375 45.921875 \r\nQ 44.09375 48.828125 44.09375 54.296875 \r\nQ 44.09375 59.90625 40.109375 62.90625 \r\nQ 36.140625 65.921875 28.71875 65.921875 \r\nQ 24.65625 65.921875 20.015625 65.03125 \r\nQ 15.375 64.15625 9.8125 62.3125 \r\nL 9.8125 71.09375 \r\nQ 15.4375 72.65625 20.34375 73.4375 \r\nQ 25.25 74.21875 29.59375 74.21875 \r\nQ 40.828125 74.21875 47.359375 69.109375 \r\nQ 53.90625 64.015625 53.90625 55.328125 \r\nQ 53.90625 49.265625 50.4375 45.09375 \r\nQ 46.96875 40.921875 40.578125 39.3125 \r\nz\r\n\" id=\"DejaVuSans-51\"/>\r\n       </defs>\r\n       <use xlink:href=\"#DejaVuSans-51\"/>\r\n       <use x=\"63.623047\" xlink:href=\"#DejaVuSans-48\"/>\r\n      </g>\r\n     </g>\r\n    </g>\r\n   </g>\r\n   <g id=\"patch_3\">\r\n    <path d=\"M 26.925 97.443481 \r\nL 26.925 9.627088 \r\n\" style=\"fill:none;stroke:#000000;stroke-linecap:square;stroke-linejoin:miter;stroke-width:0.8;\"/>\r\n   </g>\r\n   <g id=\"patch_4\">\r\n    <path d=\"M 361.725 97.443481 \r\nL 361.725 9.627088 \r\n\" style=\"fill:none;stroke:#000000;stroke-linecap:square;stroke-linejoin:miter;stroke-width:0.8;\"/>\r\n   </g>\r\n   <g id=\"patch_5\">\r\n    <path d=\"M 26.925 97.443481 \r\nL 361.725 97.443481 \r\n\" style=\"fill:none;stroke:#000000;stroke-linecap:square;stroke-linejoin:miter;stroke-width:0.8;\"/>\r\n   </g>\r\n   <g id=\"patch_6\">\r\n    <path d=\"M 26.925 9.627088 \r\nL 361.725 9.627088 \r\n\" style=\"fill:none;stroke:#000000;stroke-linecap:square;stroke-linejoin:miter;stroke-width:0.8;\"/>\r\n   </g>\r\n  </g>\r\n </g>\r\n <defs>\r\n  <clipPath id=\"p1be16f39ff\">\r\n   <rect height=\"87.816393\" width=\"334.8\" x=\"26.925\" y=\"9.627088\"/>\r\n  </clipPath>\r\n </defs>\r\n</svg>\r\n",
            "text/plain": "<Figure size 432x288 with 1 Axes>"
          },
          "metadata": {
            "needs_background": "light",
            "transient": {}
          },
          "output_type": "display_data"
        },
        {
          "name": "stdout",
          "output_type": "stream",
          "text": [
            "9     6     7     8\n"
          ]
        }
      ],
      "source": [
        "import matplotlib.pyplot as plt\n",
        "import numpy as np\n",
        "\n",
        "# functions to show an image\n",
        "\n",
        "\n",
        "def imshow(img):\n",
        "    img = img / 2 + 0.5     # unnormalize\n",
        "    npimg = img.numpy()\n",
        "    plt.imshow(np.transpose(npimg, (1, 2, 0)))\n",
        "    plt.show()\n",
        "\n",
        "\n",
        "# get some random training images\n",
        "dataiter = iter(trainloader)\n",
        "images, labels = dataiter.next()\n",
        "\n",
        "# show images\n",
        "imshow(torchvision.utils.make_grid(images[:4,]))\n",
        "# print labels\n",
        "print(' '.join('%5s' % classes[labels[j]] for j in range(4)))"
      ]
    },
    {
      "cell_type": "markdown",
      "metadata": {
        "colab_type": "text",
        "id": "9CUKf7kcW3Rh"
      },
      "source": [
        "# Construct the CNN."
      ]
    },
    {
      "cell_type": "code",
      "execution_count": 5,
      "metadata": {
        "colab": {
          "base_uri": "https://localhost:8080/",
          "height": 34
        },
        "colab_type": "code",
        "id": "LOsjlBUKsbTF",
        "outputId": "f0acc481-96c6-402d-dfc6-b690ea67633c"
      },
      "outputs": [],
      "source": [
        "import torch.nn as nn\n",
        "import torch.nn.functional as F\n",
        "\n",
        "# define your CNN here, e.g. activation function: F.sigmoid or F.relu\n",
        "\n",
        "class Net(nn.Module):\n",
        "    def __init__(self):\n",
        "        super(Net, self).__init__()\n",
        "        self.conv1 = nn.Conv2d(1, 16, kernel_size=3, stride=1, padding=1)\n",
        "        self.pool = nn.MaxPool2d(kernel_size=2, stride=2, padding=0)\n",
        "        self.conv2 = nn.Conv2d(16, 32, kernel_size=3, stride=1, padding=1)\n",
        "        self.conv3 = nn.Conv2d(32, 32, kernel_size=3, stride=1, padding=1)\n",
        "        self.fc1 = nn.Linear(32 * 7 * 7, 512)\n",
        "        self.fc2 = nn.Linear(512, 128)\n",
        "        self.fc3 = nn.Linear(128, 10)\n",
        "\n",
        "    def forward(self, x):\n",
        "        x = self.pool(F.sigmoid(self.conv1(x)))\n",
        "        x = self.pool(F.sigmoid(self.conv2(x)))\n",
        "        x = F.sigmoid(self.conv3(x))\n",
        "        x = x.view(-1, 32 * 7 * 7)\n",
        "        x = F.sigmoid(self.fc1(x))\n",
        "        x = F.sigmoid(self.fc2(x))\n",
        "        x = self.fc3(x)\n",
        "        return x\n",
        "\n"
      ]
    },
    {
      "cell_type": "markdown",
      "metadata": {
        "colab_type": "text",
        "id": "_FC-AEZXXJE4"
      },
      "source": [
        "# Instantiate the CNN and print out the number of parameters."
      ]
    },
    {
      "cell_type": "code",
      "execution_count": 6,
      "metadata": {
        "colab": {
          "base_uri": "https://localhost:8080/",
          "height": 34
        },
        "colab_type": "code",
        "id": "ghak7OKCXXpK",
        "outputId": "f4690775-d3e2-429e-a3f7-4a20e4812763"
      },
      "outputs": [
        {
          "name": "stdout",
          "output_type": "stream",
          "text": [
            "884330\n"
          ]
        }
      ],
      "source": [
        "net = Net()\r\n",
        "print(sum([p.numel() for p in net.parameters()]))\r\n",
        "PATH = 'C:/Users/Ryan/Desktop/Part 2/cnn'"
      ]
    },
    {
      "cell_type": "markdown",
      "metadata": {
        "colab_type": "text",
        "id": "slDGVTtkXd-Z"
      },
      "source": [
        "# Define the loss function and the optimizer."
      ]
    },
    {
      "cell_type": "code",
      "execution_count": 10,
      "metadata": {
        "colab": {},
        "colab_type": "code",
        "id": "ml4xvTi7sgCE"
      },
      "outputs": [
        {
          "name": "stdout",
          "output_type": "stream",
          "text": [
            "0.01\n"
          ]
        }
      ],
      "source": [
        "import torch.optim as optim\r\n",
        "import torch.nn as nn\r\n",
        "import torch.nn.functional as F\r\n",
        "\r\n",
        "criterion = nn.CrossEntropyLoss()\r\n",
        "# define your optimizer and its learning rate (lr) here!\r\n",
        "optimizer = optim.Adam(net.parameters(), lr=0.01)\r\n",
        "print(optimizer.defaults['lr'])"
      ]
    },
    {
      "cell_type": "markdown",
      "metadata": {
        "colab_type": "text",
        "id": "M9WLDB1R0CnA"
      },
      "source": [
        "# Select the device to train the CNN! \"cuda:0\" means the first GPU device."
      ]
    },
    {
      "cell_type": "code",
      "execution_count": 26,
      "metadata": {
        "colab": {
          "base_uri": "https://localhost:8080/",
          "height": 153
        },
        "colab_type": "code",
        "id": "W90Lsx16swAe",
        "outputId": "02a96e19-5091-4c71-e644-8b446255c45f"
      },
      "outputs": [
        {
          "name": "stdout",
          "output_type": "stream",
          "text": [
            "cuda:0\n"
          ]
        },
        {
          "data": {
            "text/plain": "Net(\n  (conv1): Conv2d(1, 16, kernel_size=(3, 3), stride=(1, 1), padding=(1, 1))\n  (pool): MaxPool2d(kernel_size=2, stride=2, padding=0, dilation=1, ceil_mode=False)\n  (conv2): Conv2d(16, 32, kernel_size=(3, 3), stride=(1, 1), padding=(1, 1))\n  (conv3): Conv2d(32, 32, kernel_size=(3, 3), stride=(1, 1), padding=(1, 1))\n  (fc1): Linear(in_features=1568, out_features=512, bias=True)\n  (fc2): Linear(in_features=512, out_features=128, bias=True)\n  (fc3): Linear(in_features=128, out_features=10, bias=True)\n)"
          },
          "execution_count": 26,
          "metadata": {},
          "output_type": "execute_result"
        }
      ],
      "source": [
        "device = torch.device(\"cuda:0\" if torch.cuda.is_available() else \"cpu\")\n",
        "print(device)\n",
        "net.to(device)"
      ]
    },
    {
      "cell_type": "markdown",
      "metadata": {
        "colab_type": "text",
        "id": "8dLwz9XsYkNJ"
      },
      "source": [
        "# Train the CNN and store the best model based on the validation loss."
      ]
    },
    {
      "cell_type": "code",
      "execution_count": 27,
      "metadata": {
        "colab": {
          "base_uri": "https://localhost:8080/",
          "height": 408
        },
        "colab_type": "code",
        "id": "csCvcF7Ss1Ud",
        "outputId": "7e62b4de-04c9-4cb8-d70b-aaeb5071f410"
      },
      "outputs": [
        {
          "name": "stdout",
          "output_type": "stream",
          "text": [
            "Epoch:  0  train loss:  2.313\n",
            "Epoch:  0  validation loss:  2.304\n",
            "Epoch:  1  train loss:  2.303\n",
            "Epoch:  1  validation loss:  2.304\n",
            "Epoch:  2  train loss:  2.303\n",
            "Epoch:  2  validation loss:  2.306\n",
            "Epoch:  3  train loss:  2.304\n",
            "Epoch:  3  validation loss:  2.305\n",
            "Epoch:  4  train loss:  2.304\n",
            "Epoch:  4  validation loss:  2.302\n",
            "Epoch:  5  train loss:  2.303\n",
            "Epoch:  5  validation loss:  2.306\n",
            "Epoch:  6  train loss:  2.304\n",
            "Epoch:  6  validation loss:  2.303\n",
            "Epoch:  7  train loss:  2.304\n",
            "Epoch:  7  validation loss:  2.303\n",
            "Epoch:  8  train loss:  2.303\n",
            "Epoch:  8  validation loss:  2.303\n",
            "Epoch:  9  train loss:  2.302\n",
            "Epoch:  9  validation loss:  2.302\n",
            "Finished Training in 1 mins\n"
          ]
        }
      ],
      "source": [
        "import time\r\n",
        "import os as OO\r\n",
        "\r\n",
        "start_time = time.time()\r\n",
        "best_loss = np.float('inf')\r\n",
        "for epoch in range(10):  # loop over the dataset multiple times\r\n",
        "\r\n",
        "    running_loss = 0.0\r\n",
        "    for i, data in enumerate(trainloader, 0):\r\n",
        "        # get the inputs; data is a list of [inputs, labels]\r\n",
        "        inputs, labels = data[0].to(device), data[1].to(device)\r\n",
        "\r\n",
        "        # zero the parameter gradients\r\n",
        "        optimizer.zero_grad()\r\n",
        "\r\n",
        "        # forward + backward + optimize\r\n",
        "        outputs = net(inputs)\r\n",
        "        loss = criterion(outputs, labels)\r\n",
        "        loss.backward()\r\n",
        "        optimizer.step()\r\n",
        "\r\n",
        "        # print statistics\r\n",
        "        running_loss += loss.item()\r\n",
        "    epoch_loss = running_loss / (i+1)\r\n",
        "    print(\"Epoch: \", epoch, \" train loss: \", '%.3f' % epoch_loss)\r\n",
        "    with torch.no_grad(): \r\n",
        "      running_loss = 0.0\r\n",
        "      for i, data in enumerate(validloader, 0):\r\n",
        "          # get the inputs; data is a list of [inputs, labels]\r\n",
        "          inputs, labels = data[0].to(device), data[1].to(device)\r\n",
        "\r\n",
        "          # forward \r\n",
        "          outputs = net(inputs)\r\n",
        "          loss = criterion(outputs, labels)\r\n",
        "\r\n",
        "          # print statistics\r\n",
        "          running_loss += loss.item()\r\n",
        "      epoch_loss = running_loss / (i+1)\r\n",
        "      print(\"Epoch: \", epoch, \" validation loss: \", '%.3f' % epoch_loss)\r\n",
        "      # save the best model based on validation loss\r\n",
        "      if epoch_loss < best_loss:\r\n",
        "        torch.save(net.state_dict(), OO.path.join(PATH, 'cnn.pth'))\r\n",
        "        best_loss = epoch_loss\r\n",
        "\r\n",
        "time_elap = (time.time() - start_time) // 60\r\n",
        "print('Finished Training in %d mins' % time_elap)"
      ]
    },
    {
      "cell_type": "markdown",
      "metadata": {
        "colab_type": "text",
        "id": "yfvPe-jSYsrR"
      },
      "source": [
        "# Define the test dataset."
      ]
    },
    {
      "cell_type": "code",
      "execution_count": 28,
      "metadata": {
        "colab": {},
        "colab_type": "code",
        "id": "UQSOIHv7yf-3"
      },
      "outputs": [],
      "source": [
        "transform = transforms.Compose(\n",
        "     [transforms.ToTensor(),\n",
        "     transforms.Normalize((0.1307,), (0.3081,))])\n",
        "testset = torchvision.datasets.MNIST(root='./data', train=False,\n",
        "                                       download=True, transform=transform)\n",
        "testloader = torch.utils.data.DataLoader(testset, batch_size=4,\n",
        "                                         shuffle=False, num_workers=1)"
      ]
    },
    {
      "cell_type": "markdown",
      "metadata": {
        "colab_type": "text",
        "id": "4nqrJcR2Yzs5"
      },
      "source": [
        "# Visualize the test dataset."
      ]
    },
    {
      "cell_type": "code",
      "execution_count": 29,
      "metadata": {
        "colab": {
          "base_uri": "https://localhost:8080/",
          "height": 172
        },
        "colab_type": "code",
        "id": "TqvrOr83y2B1",
        "outputId": "1b8bddab-02e4-41a9-d165-afd4cfda1f14"
      },
      "outputs": [
        {
          "name": "stderr",
          "output_type": "stream",
          "text": [
            "Clipping input data to the valid range for imshow with RGB data ([0..1] for floats or [0..255] for integers).\n"
          ]
        },
        {
          "data": {
            "image/png": "[encoded data removed]",
            "image/svg+xml": "<?xml version=\"1.0\" encoding=\"utf-8\" standalone=\"no\"?>\r\n<!DOCTYPE svg PUBLIC \"-//W3C//DTD SVG 1.1//EN\"\r\n  \"http://www.w3.org/Graphics/SVG/1.1/DTD/svg11.dtd\">\r\n<!-- Created with matplotlib (https://matplotlib.org/) -->\r\n<svg height=\"121.321606pt\" version=\"1.1\" viewBox=\"0 0 374.352357 121.321606\" width=\"374.352357pt\" xmlns=\"http://www.w3.org/2000/svg\" xmlns:xlink=\"http://www.w3.org/1999/xlink\">\r\n <metadata>\r\n  <rdf:RDF xmlns:cc=\"http://creativecommons.org/ns#\" xmlns:dc=\"http://purl.org/dc/elements/1.1/\" xmlns:rdf=\"http://www.w3.org/1999/02/22-rdf-syntax-ns#\">\r\n   <cc:Work>\r\n    <dc:type rdf:resource=\"http://purl.org/dc/dcmitype/StillImage\"/>\r\n    <dc:date>2020-12-16T17:00:58.675826</dc:date>\r\n    <dc:format>image/svg+xml</dc:format>\r\n    <dc:creator>\r\n     <cc:Agent>\r\n      <dc:title>Matplotlib v3.3.2, https://matplotlib.org/</dc:title>\r\n     </cc:Agent>\r\n    </dc:creator>\r\n   </cc:Work>\r\n  </rdf:RDF>\r\n </metadata>\r\n <defs>\r\n  <style type=\"text/css\">*{stroke-linecap:butt;stroke-linejoin:round;}</style>\r\n </defs>\r\n <g id=\"figure_1\">\r\n  <g id=\"patch_1\">\r\n   <path d=\"M -0 121.321606 \r\nL 374.352357 121.321606 \r\nL 374.352357 0 \r\nL -0 0 \r\nz\r\n\" style=\"fill:none;\"/>\r\n  </g>\r\n  <g id=\"axes_1\">\r\n   <g id=\"patch_2\">\r\n    <path d=\"M 26.925 97.443481 \r\nL 361.725 97.443481 \r\nL 361.725 9.627088 \r\nL 26.925 9.627088 \r\nz\r\n\" style=\"fill:#ffffff;\"/>\r\n   </g>\r\n   <g clip-path=\"url(#p93e49d1cf0)\">\r\n    <image height=\"88\" id=\"image1fce6f3373\" transform=\"scale(1 -1)translate(0 -88)\" width=\"335\" x=\"26.925\" xlink:href=\"data:image/png;base64,\r\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\" y=\"-9.443481\"/>\r\n   </g>\r\n   <g id=\"matplotlib.axis_1\">\r\n    <g id=\"xtick_1\">\r\n     <g id=\"line2d_1\">\r\n      <defs>\r\n       <path d=\"M 0 0 \r\nL 0 3.5 \r\n\" id=\"m1dace37b82\" style=\"stroke:#000000;stroke-width:0.8;\"/>\r\n      </defs>\r\n      <g>\r\n       <use style=\"stroke:#000000;stroke-width:0.8;\" x=\"28.297131\" xlink:href=\"#m1dace37b82\" y=\"97.443481\"/>\r\n      </g>\r\n     </g>\r\n     <g id=\"text_1\">\r\n      <!-- 0 -->\r\n      <g transform=\"translate(25.115881 112.041919)scale(0.1 -0.1)\">\r\n       <defs>\r\n        <path d=\"M 31.78125 66.40625 \r\nQ 24.171875 66.40625 20.328125 58.90625 \r\nQ 16.5 51.421875 16.5 36.375 \r\nQ 16.5 21.390625 20.328125 13.890625 \r\nQ 24.171875 6.390625 31.78125 6.390625 \r\nQ 39.453125 6.390625 43.28125 13.890625 \r\nQ 47.125 21.390625 47.125 36.375 \r\nQ 47.125 51.421875 43.28125 58.90625 \r\nQ 39.453125 66.40625 31.78125 66.40625 \r\nz\r\nM 31.78125 74.21875 \r\nQ 44.046875 74.21875 50.515625 64.515625 \r\nQ 56.984375 54.828125 56.984375 36.375 \r\nQ 56.984375 17.96875 50.515625 8.265625 \r\nQ 44.046875 -1.421875 31.78125 -1.421875 \r\nQ 19.53125 -1.421875 13.0625 8.265625 \r\nQ 6.59375 17.96875 6.59375 36.375 \r\nQ 6.59375 54.828125 13.0625 64.515625 \r\nQ 19.53125 74.21875 31.78125 74.21875 \r\nz\r\n\" id=\"DejaVuSans-48\"/>\r\n       </defs>\r\n       <use xlink:href=\"#DejaVuSans-48\"/>\r\n      </g>\r\n     </g>\r\n    </g>\r\n    <g id=\"xtick_2\">\r\n     <g id=\"line2d_2\">\r\n      <g>\r\n       <use style=\"stroke:#000000;stroke-width:0.8;\" x=\"83.182377\" xlink:href=\"#m1dace37b82\" y=\"97.443481\"/>\r\n      </g>\r\n     </g>\r\n     <g id=\"text_2\">\r\n      <!-- 20 -->\r\n      <g transform=\"translate(76.819877 112.041919)scale(0.1 -0.1)\">\r\n       <defs>\r\n        <path d=\"M 19.1875 8.296875 \r\nL 53.609375 8.296875 \r\nL 53.609375 0 \r\nL 7.328125 0 \r\nL 7.328125 8.296875 \r\nQ 12.9375 14.109375 22.625 23.890625 \r\nQ 32.328125 33.6875 34.8125 36.53125 \r\nQ 39.546875 41.84375 41.421875 45.53125 \r\nQ 43.3125 49.21875 43.3125 52.78125 \r\nQ 43.3125 58.59375 39.234375 62.25 \r\nQ 35.15625 65.921875 28.609375 65.921875 \r\nQ 23.96875 65.921875 18.8125 64.3125 \r\nQ 13.671875 62.703125 7.8125 59.421875 \r\nL 7.8125 69.390625 \r\nQ 13.765625 71.78125 18.9375 73 \r\nQ 24.125 74.21875 28.421875 74.21875 \r\nQ 39.75 74.21875 46.484375 68.546875 \r\nQ 53.21875 62.890625 53.21875 53.421875 \r\nQ 53.21875 48.921875 51.53125 44.890625 \r\nQ 49.859375 40.875 45.40625 35.40625 \r\nQ 44.1875 33.984375 37.640625 27.21875 \r\nQ 31.109375 20.453125 19.1875 8.296875 \r\nz\r\n\" id=\"DejaVuSans-50\"/>\r\n       </defs>\r\n       <use xlink:href=\"#DejaVuSans-50\"/>\r\n       <use x=\"63.623047\" xlink:href=\"#DejaVuSans-48\"/>\r\n      </g>\r\n     </g>\r\n    </g>\r\n    <g id=\"xtick_3\">\r\n     <g id=\"line2d_3\">\r\n      <g>\r\n       <use style=\"stroke:#000000;stroke-width:0.8;\" x=\"138.067623\" xlink:href=\"#m1dace37b82\" y=\"97.443481\"/>\r\n      </g>\r\n     </g>\r\n     <g id=\"text_3\">\r\n      <!-- 40 -->\r\n      <g transform=\"translate(131.705123 112.041919)scale(0.1 -0.1)\">\r\n       <defs>\r\n        <path d=\"M 37.796875 64.3125 \r\nL 12.890625 25.390625 \r\nL 37.796875 25.390625 \r\nz\r\nM 35.203125 72.90625 \r\nL 47.609375 72.90625 \r\nL 47.609375 25.390625 \r\nL 58.015625 25.390625 \r\nL 58.015625 17.1875 \r\nL 47.609375 17.1875 \r\nL 47.609375 0 \r\nL 37.796875 0 \r\nL 37.796875 17.1875 \r\nL 4.890625 17.1875 \r\nL 4.890625 26.703125 \r\nz\r\n\" id=\"DejaVuSans-52\"/>\r\n       </defs>\r\n       <use xlink:href=\"#DejaVuSans-52\"/>\r\n       <use x=\"63.623047\" xlink:href=\"#DejaVuSans-48\"/>\r\n      </g>\r\n     </g>\r\n    </g>\r\n    <g id=\"xtick_4\">\r\n     <g id=\"line2d_4\">\r\n      <g>\r\n       <use style=\"stroke:#000000;stroke-width:0.8;\" x=\"192.952869\" xlink:href=\"#m1dace37b82\" y=\"97.443481\"/>\r\n      </g>\r\n     </g>\r\n     <g id=\"text_4\">\r\n      <!-- 60 -->\r\n      <g transform=\"translate(186.590369 112.041919)scale(0.1 -0.1)\">\r\n       <defs>\r\n        <path d=\"M 33.015625 40.375 \r\nQ 26.375 40.375 22.484375 35.828125 \r\nQ 18.609375 31.296875 18.609375 23.390625 \r\nQ 18.609375 15.53125 22.484375 10.953125 \r\nQ 26.375 6.390625 33.015625 6.390625 \r\nQ 39.65625 6.390625 43.53125 10.953125 \r\nQ 47.40625 15.53125 47.40625 23.390625 \r\nQ 47.40625 31.296875 43.53125 35.828125 \r\nQ 39.65625 40.375 33.015625 40.375 \r\nz\r\nM 52.59375 71.296875 \r\nL 52.59375 62.3125 \r\nQ 48.875 64.0625 45.09375 64.984375 \r\nQ 41.3125 65.921875 37.59375 65.921875 \r\nQ 27.828125 65.921875 22.671875 59.328125 \r\nQ 17.53125 52.734375 16.796875 39.40625 \r\nQ 19.671875 43.65625 24.015625 45.921875 \r\nQ 28.375 48.1875 33.59375 48.1875 \r\nQ 44.578125 48.1875 50.953125 41.515625 \r\nQ 57.328125 34.859375 57.328125 23.390625 \r\nQ 57.328125 12.15625 50.6875 5.359375 \r\nQ 44.046875 -1.421875 33.015625 -1.421875 \r\nQ 20.359375 -1.421875 13.671875 8.265625 \r\nQ 6.984375 17.96875 6.984375 36.375 \r\nQ 6.984375 53.65625 15.1875 63.9375 \r\nQ 23.390625 74.21875 37.203125 74.21875 \r\nQ 40.921875 74.21875 44.703125 73.484375 \r\nQ 48.484375 72.75 52.59375 71.296875 \r\nz\r\n\" id=\"DejaVuSans-54\"/>\r\n       </defs>\r\n       <use xlink:href=\"#DejaVuSans-54\"/>\r\n       <use x=\"63.623047\" xlink:href=\"#DejaVuSans-48\"/>\r\n      </g>\r\n     </g>\r\n    </g>\r\n    <g id=\"xtick_5\">\r\n     <g id=\"line2d_5\">\r\n      <g>\r\n       <use style=\"stroke:#000000;stroke-width:0.8;\" x=\"247.838115\" xlink:href=\"#m1dace37b82\" y=\"97.443481\"/>\r\n      </g>\r\n     </g>\r\n     <g id=\"text_5\">\r\n      <!-- 80 -->\r\n      <g transform=\"translate(241.475615 112.041919)scale(0.1 -0.1)\">\r\n       <defs>\r\n        <path d=\"M 31.78125 34.625 \r\nQ 24.75 34.625 20.71875 30.859375 \r\nQ 16.703125 27.09375 16.703125 20.515625 \r\nQ 16.703125 13.921875 20.71875 10.15625 \r\nQ 24.75 6.390625 31.78125 6.390625 \r\nQ 38.8125 6.390625 42.859375 10.171875 \r\nQ 46.921875 13.96875 46.921875 20.515625 \r\nQ 46.921875 27.09375 42.890625 30.859375 \r\nQ 38.875 34.625 31.78125 34.625 \r\nz\r\nM 21.921875 38.8125 \r\nQ 15.578125 40.375 12.03125 44.71875 \r\nQ 8.5 49.078125 8.5 55.328125 \r\nQ 8.5 64.0625 14.71875 69.140625 \r\nQ 20.953125 74.21875 31.78125 74.21875 \r\nQ 42.671875 74.21875 48.875 69.140625 \r\nQ 55.078125 64.0625 55.078125 55.328125 \r\nQ 55.078125 49.078125 51.53125 44.71875 \r\nQ 48 40.375 41.703125 38.8125 \r\nQ 48.828125 37.15625 52.796875 32.3125 \r\nQ 56.78125 27.484375 56.78125 20.515625 \r\nQ 56.78125 9.90625 50.3125 4.234375 \r\nQ 43.84375 -1.421875 31.78125 -1.421875 \r\nQ 19.734375 -1.421875 13.25 4.234375 \r\nQ 6.78125 9.90625 6.78125 20.515625 \r\nQ 6.78125 27.484375 10.78125 32.3125 \r\nQ 14.796875 37.15625 21.921875 38.8125 \r\nz\r\nM 18.3125 54.390625 \r\nQ 18.3125 48.734375 21.84375 45.5625 \r\nQ 25.390625 42.390625 31.78125 42.390625 \r\nQ 38.140625 42.390625 41.71875 45.5625 \r\nQ 45.3125 48.734375 45.3125 54.390625 \r\nQ 45.3125 60.0625 41.71875 63.234375 \r\nQ 38.140625 66.40625 31.78125 66.40625 \r\nQ 25.390625 66.40625 21.84375 63.234375 \r\nQ 18.3125 60.0625 18.3125 54.390625 \r\nz\r\n\" id=\"DejaVuSans-56\"/>\r\n       </defs>\r\n       <use xlink:href=\"#DejaVuSans-56\"/>\r\n       <use x=\"63.623047\" xlink:href=\"#DejaVuSans-48\"/>\r\n      </g>\r\n     </g>\r\n    </g>\r\n    <g id=\"xtick_6\">\r\n     <g id=\"line2d_6\">\r\n      <g>\r\n       <use style=\"stroke:#000000;stroke-width:0.8;\" x=\"302.723361\" xlink:href=\"#m1dace37b82\" y=\"97.443481\"/>\r\n      </g>\r\n     </g>\r\n     <g id=\"text_6\">\r\n      <!-- 100 -->\r\n      <g transform=\"translate(293.179611 112.041919)scale(0.1 -0.1)\">\r\n       <defs>\r\n        <path d=\"M 12.40625 8.296875 \r\nL 28.515625 8.296875 \r\nL 28.515625 63.921875 \r\nL 10.984375 60.40625 \r\nL 10.984375 69.390625 \r\nL 28.421875 72.90625 \r\nL 38.28125 72.90625 \r\nL 38.28125 8.296875 \r\nL 54.390625 8.296875 \r\nL 54.390625 0 \r\nL 12.40625 0 \r\nz\r\n\" id=\"DejaVuSans-49\"/>\r\n       </defs>\r\n       <use xlink:href=\"#DejaVuSans-49\"/>\r\n       <use x=\"63.623047\" xlink:href=\"#DejaVuSans-48\"/>\r\n       <use x=\"127.246094\" xlink:href=\"#DejaVuSans-48\"/>\r\n      </g>\r\n     </g>\r\n    </g>\r\n    <g id=\"xtick_7\">\r\n     <g id=\"line2d_7\">\r\n      <g>\r\n       <use style=\"stroke:#000000;stroke-width:0.8;\" x=\"357.608607\" xlink:href=\"#m1dace37b82\" y=\"97.443481\"/>\r\n      </g>\r\n     </g>\r\n     <g id=\"text_7\">\r\n      <!-- 120 -->\r\n      <g transform=\"translate(348.064857 112.041919)scale(0.1 -0.1)\">\r\n       <use xlink:href=\"#DejaVuSans-49\"/>\r\n       <use x=\"63.623047\" xlink:href=\"#DejaVuSans-50\"/>\r\n       <use x=\"127.246094\" xlink:href=\"#DejaVuSans-48\"/>\r\n      </g>\r\n     </g>\r\n    </g>\r\n   </g>\r\n   <g id=\"matplotlib.axis_2\">\r\n    <g id=\"ytick_1\">\r\n     <g id=\"line2d_8\">\r\n      <defs>\r\n       <path d=\"M 0 0 \r\nL -3.5 0 \r\n\" id=\"mafe670ccf0\" style=\"stroke:#000000;stroke-width:0.8;\"/>\r\n      </defs>\r\n      <g>\r\n       <use style=\"stroke:#000000;stroke-width:0.8;\" x=\"26.925\" xlink:href=\"#mafe670ccf0\" y=\"10.999219\"/>\r\n      </g>\r\n     </g>\r\n     <g id=\"text_8\">\r\n      <!-- 0 -->\r\n      <g transform=\"translate(13.5625 14.798437)scale(0.1 -0.1)\">\r\n       <use xlink:href=\"#DejaVuSans-48\"/>\r\n      </g>\r\n     </g>\r\n    </g>\r\n    <g id=\"ytick_2\">\r\n     <g id=\"line2d_9\">\r\n      <g>\r\n       <use style=\"stroke:#000000;stroke-width:0.8;\" x=\"26.925\" xlink:href=\"#mafe670ccf0\" y=\"38.441842\"/>\r\n      </g>\r\n     </g>\r\n     <g id=\"text_9\">\r\n      <!-- 10 -->\r\n      <g transform=\"translate(7.2 42.24106)scale(0.1 -0.1)\">\r\n       <use xlink:href=\"#DejaVuSans-49\"/>\r\n       <use x=\"63.623047\" xlink:href=\"#DejaVuSans-48\"/>\r\n      </g>\r\n     </g>\r\n    </g>\r\n    <g id=\"ytick_3\">\r\n     <g id=\"line2d_10\">\r\n      <g>\r\n       <use style=\"stroke:#000000;stroke-width:0.8;\" x=\"26.925\" xlink:href=\"#mafe670ccf0\" y=\"65.884465\"/>\r\n      </g>\r\n     </g>\r\n     <g id=\"text_10\">\r\n      <!-- 20 -->\r\n      <g transform=\"translate(7.2 69.683683)scale(0.1 -0.1)\">\r\n       <use xlink:href=\"#DejaVuSans-50\"/>\r\n       <use x=\"63.623047\" xlink:href=\"#DejaVuSans-48\"/>\r\n      </g>\r\n     </g>\r\n    </g>\r\n    <g id=\"ytick_4\">\r\n     <g id=\"line2d_11\">\r\n      <g>\r\n       <use style=\"stroke:#000000;stroke-width:0.8;\" x=\"26.925\" xlink:href=\"#mafe670ccf0\" y=\"93.327088\"/>\r\n      </g>\r\n     </g>\r\n     <g id=\"text_11\">\r\n      <!-- 30 -->\r\n      <g transform=\"translate(7.2 97.126306)scale(0.1 -0.1)\">\r\n       <defs>\r\n        <path d=\"M 40.578125 39.3125 \r\nQ 47.65625 37.796875 51.625 33 \r\nQ 55.609375 28.21875 55.609375 21.1875 \r\nQ 55.609375 10.40625 48.1875 4.484375 \r\nQ 40.765625 -1.421875 27.09375 -1.421875 \r\nQ 22.515625 -1.421875 17.65625 -0.515625 \r\nQ 12.796875 0.390625 7.625 2.203125 \r\nL 7.625 11.71875 \r\nQ 11.71875 9.328125 16.59375 8.109375 \r\nQ 21.484375 6.890625 26.8125 6.890625 \r\nQ 36.078125 6.890625 40.9375 10.546875 \r\nQ 45.796875 14.203125 45.796875 21.1875 \r\nQ 45.796875 27.640625 41.28125 31.265625 \r\nQ 36.765625 34.90625 28.71875 34.90625 \r\nL 20.21875 34.90625 \r\nL 20.21875 43.015625 \r\nL 29.109375 43.015625 \r\nQ 36.375 43.015625 40.234375 45.921875 \r\nQ 44.09375 48.828125 44.09375 54.296875 \r\nQ 44.09375 59.90625 40.109375 62.90625 \r\nQ 36.140625 65.921875 28.71875 65.921875 \r\nQ 24.65625 65.921875 20.015625 65.03125 \r\nQ 15.375 64.15625 9.8125 62.3125 \r\nL 9.8125 71.09375 \r\nQ 15.4375 72.65625 20.34375 73.4375 \r\nQ 25.25 74.21875 29.59375 74.21875 \r\nQ 40.828125 74.21875 47.359375 69.109375 \r\nQ 53.90625 64.015625 53.90625 55.328125 \r\nQ 53.90625 49.265625 50.4375 45.09375 \r\nQ 46.96875 40.921875 40.578125 39.3125 \r\nz\r\n\" id=\"DejaVuSans-51\"/>\r\n       </defs>\r\n       <use xlink:href=\"#DejaVuSans-51\"/>\r\n       <use x=\"63.623047\" xlink:href=\"#DejaVuSans-48\"/>\r\n      </g>\r\n     </g>\r\n    </g>\r\n   </g>\r\n   <g id=\"patch_3\">\r\n    <path d=\"M 26.925 97.443481 \r\nL 26.925 9.627088 \r\n\" style=\"fill:none;stroke:#000000;stroke-linecap:square;stroke-linejoin:miter;stroke-width:0.8;\"/>\r\n   </g>\r\n   <g id=\"patch_4\">\r\n    <path d=\"M 361.725 97.443481 \r\nL 361.725 9.627088 \r\n\" style=\"fill:none;stroke:#000000;stroke-linecap:square;stroke-linejoin:miter;stroke-width:0.8;\"/>\r\n   </g>\r\n   <g id=\"patch_5\">\r\n    <path d=\"M 26.925 97.443481 \r\nL 361.725 97.443481 \r\n\" style=\"fill:none;stroke:#000000;stroke-linecap:square;stroke-linejoin:miter;stroke-width:0.8;\"/>\r\n   </g>\r\n   <g id=\"patch_6\">\r\n    <path d=\"M 26.925 9.627088 \r\nL 361.725 9.627088 \r\n\" style=\"fill:none;stroke:#000000;stroke-linecap:square;stroke-linejoin:miter;stroke-width:0.8;\"/>\r\n   </g>\r\n  </g>\r\n </g>\r\n <defs>\r\n  <clipPath id=\"p93e49d1cf0\">\r\n   <rect height=\"87.816393\" width=\"334.8\" x=\"26.925\" y=\"9.627088\"/>\r\n  </clipPath>\r\n </defs>\r\n</svg>\r\n",
            "text/plain": "<Figure size 432x288 with 1 Axes>"
          },
          "metadata": {
            "needs_background": "light",
            "transient": {}
          },
          "output_type": "display_data"
        },
        {
          "name": "stdout",
          "output_type": "stream",
          "text": [
            "GroundTruth:      7     2     1     0\n"
          ]
        }
      ],
      "source": [
        "import matplotlib.pyplot as plt\n",
        "import numpy as np\n",
        "\n",
        "def imshow(img):\n",
        "    img = img / 2 + 0.5     # unnormalize\n",
        "    npimg = img.numpy()\n",
        "    plt.imshow(np.transpose(npimg, (1, 2, 0)))\n",
        "    plt.show()\n",
        "    \n",
        "dataiter = iter(testloader)\n",
        "images, labels = dataiter.next()\n",
        "\n",
        "# print images\n",
        "imshow(torchvision.utils.make_grid(images))\n",
        "print('GroundTruth: ', ' '.join('%5s' % classes[labels[j]] for j in range(4)))"
      ]
    },
    {
      "cell_type": "markdown",
      "metadata": {
        "colab_type": "text",
        "id": "l8DMyi8-Y4nB"
      },
      "source": [
        "# Load the learned CNN parameters. This is required when you have trained the CNN and do no want to train it again by loading the learned parameters."
      ]
    },
    {
      "cell_type": "code",
      "execution_count": 30,
      "metadata": {
        "colab": {
          "base_uri": "https://localhost:8080/",
          "height": 34
        },
        "colab_type": "code",
        "id": "QTELpZUNy5yV",
        "outputId": "a7091926-6ced-4cfb-9f1a-3a52eaa6f113"
      },
      "outputs": [
        {
          "data": {
            "text/plain": "<All keys matched successfully>"
          },
          "execution_count": 30,
          "metadata": {},
          "output_type": "execute_result"
        }
      ],
      "source": [
        "net.load_state_dict(torch.load(OO.path.join(PATH, 'cnn.pth')))"
      ]
    },
    {
      "cell_type": "markdown",
      "metadata": {
        "colab_type": "text",
        "id": "fL7bMIiyZeFr"
      },
      "source": [
        "# Get the predictions for the first 4 images in the test dataset."
      ]
    },
    {
      "cell_type": "code",
      "execution_count": 31,
      "metadata": {
        "colab": {
          "base_uri": "https://localhost:8080/",
          "height": 68
        },
        "colab_type": "code",
        "id": "lQeFNxLTzBxN",
        "outputId": "c405b952-92ec-45c4-8b6d-bdab73fed2e3"
      },
      "outputs": [
        {
          "name": "stdout",
          "output_type": "stream",
          "text": [
            "Predicted:      1     1     1     1\n"
          ]
        }
      ],
      "source": [
        "with torch.no_grad():\n",
        "  outputs = net(images.to(device))\n",
        "  _, predicted = torch.max(outputs, 1)\n",
        "\n",
        "print('Predicted: ', ' '.join('%5s' % classes[predicted[j]]\n",
        "                              for j in range(4)))"
      ]
    },
    {
      "cell_type": "markdown",
      "metadata": {
        "colab_type": "text",
        "id": "3r7FPw9MZoMB"
      },
      "source": [
        "# Infer on the whole test dataset."
      ]
    },
    {
      "cell_type": "code",
      "execution_count": 32,
      "metadata": {
        "colab": {
          "base_uri": "https://localhost:8080/",
          "height": 68
        },
        "colab_type": "code",
        "id": "F246Hc0QzLLV",
        "outputId": "95e3f967-1334-4738-edd6-535cccdf2486"
      },
      "outputs": [
        {
          "name": "stdout",
          "output_type": "stream",
          "text": [
            "Accuracy of the network on the 10000 test images: 11.350 %\n"
          ]
        }
      ],
      "source": [
        "testloader = torch.utils.data.DataLoader(testset, batch_size=200,\n",
        "                                         shuffle=False, num_workers=1)\n",
        "correct = 0\n",
        "total = 0\n",
        "with torch.no_grad():\n",
        "    for data in testloader:\n",
        "        images, labels = data\n",
        "        outputs = net(images.to(device))\n",
        "        _, predicted = torch.max(outputs.data, 1)\n",
        "        total += labels.size(0)\n",
        "        correct += (predicted == labels.to(device)).sum().item()\n",
        "\n",
        "print('Accuracy of the network on the 10000 test images: %.3F %%' % (\n",
        "    100 * correct / total))"
      ]
    },
    {
      "cell_type": "markdown",
      "metadata": {
        "colab_type": "text",
        "id": "JOZILCzoZyQC"
      },
      "source": [
        "# check the GPU device assigned by Google."
      ]
    },
    {
      "cell_type": "code",
      "execution_count": 34,
      "metadata": {
        "colab": {
          "base_uri": "https://localhost:8080/",
          "height": 289
        },
        "colab_type": "code",
        "id": "SYHUVXeezVx2",
        "outputId": "ac5bc88c-93ed-4daa-9c4b-b1e632989acf"
      },
      "outputs": [
        {
          "name": "stdout",
          "output_type": "stream",
          "text": [
            "Wed Dec 16 17:01:01 2020       \n",
            "+-----------------------------------------------------------------------------+\n",
            "| NVIDIA-SMI 456.71       Driver Version: 456.71       CUDA Version: 11.1     |\n",
            "|-------------------------------+----------------------+----------------------+\n",
            "| GPU  Name            TCC/WDDM | Bus-Id        Disp.A | Volatile Uncorr. ECC |\n",
            "| Fan  Temp  Perf  Pwr:Usage/Cap|         Memory-Usage | GPU-Util  Compute M. |\n",
            "|===============================+======================+======================|\n",
            "|   0  GeForce GTX 1070   WDDM  | 00000000:0B:00.0  On |                  N/A |\n",
            "| 26%   55C    P0    35W / 151W |   3030MiB /  8192MiB |      2%      Default |\n",
            "+-------------------------------+----------------------+----------------------+\n",
            "                                                                               \n",
            "+-----------------------------------------------------------------------------+\n",
            "| Processes:                                                                  |\n",
            "|  GPU   GI   CI        PID   Type   Process name                  GPU Memory |\n",
            "|        ID   ID                                                   Usage      |\n",
            "|=============================================================================|\n",
            "|    0   N/A  N/A      1196    C+G   ...y\\ShellExperienceHost.exe    N/A      |\n",
            "|    0   N/A  N/A      1312    C+G   Insufficient Permissions        N/A      |\n",
            "|    0   N/A  N/A      2884    C+G   ...ge\\Application\\msedge.exe    N/A      |\n",
            "|    0   N/A  N/A      3500    C+G   ...8wekyb3d8bbwe\\GameBar.exe    N/A      |\n",
            "|    0   N/A  N/A      7236    C+G   ...Roaming\\Zoom\\bin\\Zoom.exe    N/A      |\n",
            "|    0   N/A  N/A      8768    C+G   Insufficient Permissions        N/A      |\n",
            "|    0   N/A  N/A      9792    C+G   C:\\Windows\\explorer.exe         N/A      |\n",
            "|    0   N/A  N/A     11020    C+G   ...artMenuExperienceHost.exe    N/A      |\n",
            "|    0   N/A  N/A     12684    C+G   ...5n1h2txyewy\\SearchApp.exe    N/A      |\n",
            "|    0   N/A  N/A     12840    C+G   ...4__8wekyb3d8bbwe\\Time.exe    N/A      |\n",
            "|    0   N/A  N/A     13328    C+G   ...ekyb3d8bbwe\\YourPhone.exe    N/A      |\n",
            "|    0   N/A  N/A     14284    C+G   ...nputApp\\TextInputHost.exe    N/A      |\n",
            "|    0   N/A  N/A     15192    C+G   ...iders\\Code - Insiders.exe    N/A      |\n",
            "|    0   N/A  N/A     18668    C+G   ...IR iCUE Software\\iCUE.exe    N/A      |\n",
            "|    0   N/A  N/A     19548    C+G   ... Host\\Razer Synapse 3.exe    N/A      |\n",
            "|    0   N/A  N/A     19632    C+G   ...ON Tools Lite\\DTAgent.exe    N/A      |\n",
            "|    0   N/A  N/A     20076    C+G   ...bbwe\\Microsoft.Photos.exe    N/A      |\n",
            "|    0   N/A  N/A     20904    C+G   Insufficient Permissions        N/A      |\n",
            "|    0   N/A  N/A     20924    C+G   ...lPanel\\SystemSettings.exe    N/A      |\n",
            "|    0   N/A  N/A     20944    C+G   ...d\\app-0.0.309\\Discord.exe    N/A      |\n",
            "|    0   N/A  N/A     21024    C+G   ...arp.BrowserSubprocess.exe    N/A      |\n",
            "|    0   N/A  N/A     21036    C+G   ...Microsoft.Msn.Weather.exe    N/A      |\n",
            "|    0   N/A  N/A     21888    C+G   ...wekyb3d8bbwe\\Video.UI.exe    N/A      |\n",
            "|    0   N/A  N/A     22264    C+G   ...zpdnekdrzrea0\\Spotify.exe    N/A      |\n",
            "|    0   N/A  N/A     22616      C   ...Ryan\\anaconda3\\python.exe    N/A      |\n",
            "|    0   N/A  N/A     22756    C+G   Insufficient Permissions        N/A      |\n",
            "|    0   N/A  N/A     24296    C+G   ...kyb3d8bbwe\\Calculator.exe    N/A      |\n",
            "+-----------------------------------------------------------------------------+\n"
          ]
        },
        {
          "name": "stderr",
          "output_type": "stream",
          "text": [
            "'ln' is not recognized as an internal or external command,\n",
            "operable program or batch file.\n"
          ]
        }
      ],
      "source": [
        "!ln -sf /opt/bin/nvidia-smi /usr/bin/nvidia-smi\n",
        "import subprocess\n",
        "print(subprocess.getoutput('nvidia-smi'))"
      ]
    }
  ],
  "metadata": {
    "accelerator": "GPU",
    "colab": {
      "collapsed_sections": [],
      "name": "demo.ipynb",
      "provenance": []
    },
    "kernelspec": {
      "display_name": "Python 3",
      "name": "python3"
    },
    "language_info": {}
  },
  "nbformat": 4,
  "nbformat_minor": 0
}